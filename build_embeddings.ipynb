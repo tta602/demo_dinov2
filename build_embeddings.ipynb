{
 "cells": [
  {
   "cell_type": "code",
   "execution_count": 1,
   "id": "dbc400a1",
   "metadata": {},
   "outputs": [],
   "source": [
    "# !wget https://www.robots.ox.ac.uk/~vgg/data/oxbuildings/oxbuild_images.tgz\n",
    "# !wget https://www.robots.ox.ac.uk/~vgg/data/oxbuildings/gt_files_170407.tgz\n",
    "\n",
    "# !tar -xvzf oxbuild_images.tgz\n",
    "# !tar -xvzf gt_files_170407.tgzi\n",
    "# !mkdir -p collection/gtruth\n",
    "# !mkdir -p collection/iamges\n",
    "# !mv *.txt collection/gtruth   \n",
    "# !mv *.jpg collection/iamges"
   ]
  },
  {
   "cell_type": "code",
   "execution_count": 2,
   "id": "1e588b5f",
   "metadata": {},
   "outputs": [],
   "source": [
    "# !pip install pytorch torchvision\n",
    "# !pip install tqdm \n",
    "# !pip install faiss-cpu # pip install faiss-gpu-cu11  # For CUDA 11.x\n",
    "# !    pip install transformers\n",
    "# !pip install ipywidgets\n",
    "# !pip install jupyterlab_widgets\n",
    "# !pip install matplotlib\n",
    "# !pip install opencv-python"
   ]
  },
  {
   "cell_type": "code",
   "execution_count": 3,
   "id": "7db5fed1",
   "metadata": {},
   "outputs": [],
   "source": [
    "import os, json\n",
    "import torch\n",
    "from PIL import Image\n",
    "import numpy as np\n",
    "import torchvision.transforms as T\n",
    "from tqdm import tqdm\n",
    "import faiss\n",
    "import matplotlib.pyplot as plt\n",
    "import cv2\n",
    "from transformers import AutoModel, AutoImageProcessor"
   ]
  },
  {
   "cell_type": "code",
   "execution_count": 4,
   "id": "7b2ca77d",
   "metadata": {},
   "outputs": [
    {
     "name": "stdout",
     "output_type": "stream",
     "text": [
      "Device::: cpu\n"
     ]
    }
   ],
   "source": [
    "device = \"cuda\" if torch.cuda.is_available() else \"cpu\"\n",
    "print(\"Device:::\", device)"
   ]
  },
  {
   "cell_type": "code",
   "execution_count": null,
   "id": "d07238da",
   "metadata": {},
   "outputs": [],
   "source": [
    "dinov2_model = AutoModel.from_pretrained('facebook/dinov2-base').to(device)\n",
    "processor = AutoImageProcessor.from_pretrained('facebook/dinov2-base', use_fast=True)"
   ]
  },
  {
   "cell_type": "code",
   "execution_count": 6,
   "id": "2d50825a",
   "metadata": {},
   "outputs": [],
   "source": [
    "def load_image_tensor(img_path):\n",
    "    image = Image.open(img_path).convert(\"RGB\")\n",
    "    inputs = processor(images=image, return_tensors=\"pt\")\n",
    "    return inputs[\"pixel_values\"].to(device)"
   ]
  },
  {
   "cell_type": "code",
   "execution_count": 7,
   "id": "69031893",
   "metadata": {},
   "outputs": [],
   "source": [
    "def extract_embedding(img_path):\n",
    "    pixel_values = load_image_tensor(img_path)\n",
    "    with torch.no_grad():\n",
    "        embeddings = dinov2_model(pixel_values).last_hidden_state[:, 0]  # CLS token\n",
    "    return embeddings.squeeze().cpu().numpy()"
   ]
  },
  {
   "cell_type": "code",
   "execution_count": 8,
   "id": "4d974a09",
   "metadata": {},
   "outputs": [],
   "source": [
    "# Đường dẫn mới đến thư mục ảnh\n",
    "image_dir = \"collection/images\"\n",
    "files = [os.path.join(image_dir, f) for f in os.listdir(image_dir) if f.endswith(\".jpg\")]\n",
    "files.sort()  # giữ thứ tự cố định"
   ]
  },
  {
   "cell_type": "code",
   "execution_count": 9,
   "id": "870a595e",
   "metadata": {},
   "outputs": [],
   "source": [
    "# Khởi tạo FAISS Index (DINOv2-B có output 768 chiều)\n",
    "index = faiss.IndexFlatL2(768)"
   ]
  },
  {
   "cell_type": "code",
   "execution_count": null,
   "id": "a71379db",
   "metadata": {},
   "outputs": [],
   "source": [
    "all_embeddings = {}\n",
    "# Tạo embedding và lưu vào index\n",
    "for img_path in tqdm(files):\n",
    "    emb = extract_embedding(img_path)  # dùng hàm extract_embedding đã viết trước đó\n",
    "    index.add(emb.reshape(1, -1))\n",
    "    all_embeddings[img_path] = emb.tolist()\n",
    "\n",
    "# Lưu lại index và embedding\n",
    "faiss.write_index(index, \"oxford_index.bin\")"
   ]
  },
  {
   "cell_type": "code",
   "execution_count": null,
   "id": "b4f70713",
   "metadata": {},
   "outputs": [],
   "source": [
    "with open(\"oxford_embeddings.json\", \"w\") as f:\n",
    "    json.dump(all_embeddings, f)"
   ]
  }
 ],
 "metadata": {
  "kernelspec": {
   "display_name": ".venv",
   "language": "python",
   "name": "python3"
  },
  "language_info": {
   "codemirror_mode": {
    "name": "ipython",
    "version": 3
   },
   "file_extension": ".py",
   "mimetype": "text/x-python",
   "name": "python",
   "nbconvert_exporter": "python",
   "pygments_lexer": "ipython3",
   "version": "3.11.0"
  }
 },
 "nbformat": 4,
 "nbformat_minor": 5
}
