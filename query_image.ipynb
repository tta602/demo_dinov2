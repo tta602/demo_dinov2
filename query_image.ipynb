{
 "cells": [
  {
   "cell_type": "code",
   "execution_count": 1,
   "id": "e3d249b7",
   "metadata": {},
   "outputs": [],
   "source": [
    "import os, json\n",
    "import torch\n",
    "from PIL import Image\n",
    "import numpy as np\n",
    "import torchvision.transforms as T\n",
    "from tqdm import tqdm\n",
    "import faiss\n",
    "import matplotlib.pyplot as plt\n",
    "import cv2\n",
    "from transformers import AutoModel, AutoImageProcessor"
   ]
  },
  {
   "cell_type": "code",
   "execution_count": 2,
   "id": "98e1ade2",
   "metadata": {},
   "outputs": [
    {
     "name": "stdout",
     "output_type": "stream",
     "text": [
      "Device::: mps\n"
     ]
    }
   ],
   "source": [
    "device = \"mps\" if torch.backends.mps.is_available() else \"cpu\"\n",
    "print(\"Device:::\", device)"
   ]
  },
  {
   "cell_type": "code",
   "execution_count": 3,
   "id": "e7f76e2e",
   "metadata": {},
   "outputs": [],
   "source": [
    "# Load FAISS index\n",
    "index = faiss.read_index(\"oxford_index.bin\")\n",
    "\n",
    "# Load embedding JSON (dùng để mapping index → tên file ảnh)\n",
    "with open(\"oxford_embeddings.json\", \"r\") as f:\n",
    "    all_embeddings = json.load(f)\n",
    "\n",
    "# Lấy danh sách file ảnh theo thứ tự index đã add\n",
    "files = list(all_embeddings.keys())"
   ]
  },
  {
   "cell_type": "code",
   "execution_count": 4,
   "id": "44de6b8a",
   "metadata": {},
   "outputs": [],
   "source": [
    "# Transform giống như lúc tạo index\n",
    "transform = T.Compose([\n",
    "    T.ToTensor(),\n",
    "    T.Resize(244),\n",
    "    T.CenterCrop(224),\n",
    "    T.Normalize([0.5], [0.5])\n",
    "])"
   ]
  },
  {
   "cell_type": "code",
   "execution_count": 5,
   "id": "1072aa99",
   "metadata": {},
   "outputs": [],
   "source": [
    "def load_image(img_path):\n",
    "    img = Image.open(img_path).convert(\"RGB\")\n",
    "    return transform(img).unsqueeze(0).to(device)[:, :3]"
   ]
  },
  {
   "cell_type": "code",
   "execution_count": 6,
   "id": "b77ee247",
   "metadata": {},
   "outputs": [],
   "source": [
    "dinov2_model = AutoModel.from_pretrained('facebook/dinov2-base').to(device)\n",
    "processor = AutoImageProcessor.from_pretrained('facebook/dinov2-base', use_fast=False)"
   ]
  },
  {
   "cell_type": "code",
   "execution_count": null,
   "id": "4094857c",
   "metadata": {},
   "outputs": [],
   "source": [
    "query_img = \"collection/images/all_souls_000022.jpg\"\n",
    "\n",
    "with torch.no_grad():\n",
    "    output = dinov2_model(load_image(query_img).to(device))\n",
    "    embedding = output.pooler_output.cpu().numpy()  # lấy vector embedding (1, 768)\n",
    "\n",
    "\n",
    "# Tìm top K ảnh giống nhất\n",
    "D, I = index.search(embedding, k=5)\n",
    "\n",
    "# Xem ảnh kết quả\n",
    "for idx in I[0]:\n",
    "    print(\"Giống ảnh:\", files[idx])\n",
    "    img = cv2.imread(files[idx])\n",
    "    plt.imshow(cv2.cvtColor(img, cv2.COLOR_BGR2RGB))\n",
    "    plt.show()"
   ]
  },
  {
   "cell_type": "code",
   "execution_count": null,
   "id": "edf96bb4",
   "metadata": {},
   "outputs": [],
   "source": []
  }
 ],
 "metadata": {
  "kernelspec": {
   "display_name": ".venv",
   "language": "python",
   "name": "python3"
  },
  "language_info": {
   "codemirror_mode": {
    "name": "ipython",
    "version": 3
   },
   "file_extension": ".py",
   "mimetype": "text/x-python",
   "name": "python",
   "nbconvert_exporter": "python",
   "pygments_lexer": "ipython3",
   "version": "3.11.0"
  }
 },
 "nbformat": 4,
 "nbformat_minor": 5
}
