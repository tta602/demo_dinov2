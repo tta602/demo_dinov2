{
  "nbformat": 4,
  "nbformat_minor": 0,
  "metadata": {
    "colab": {
      "provenance": [],
      "gpuType": "T4"
    },
    "kernelspec": {
      "name": "python3",
      "display_name": "Python 3"
    },
    "language_info": {
      "name": "python"
    },
    "accelerator": "GPU"
  },
  "cells": [
    {
      "cell_type": "code",
      "source": [
        "from google.colab import drive\n",
        "drive.mount('/content/drive')"
      ],
      "metadata": {
        "colab": {
          "base_uri": "https://localhost:8080/"
        },
        "id": "mo691DwRKbUq",
        "outputId": "f228b73d-9784-4377-ed40-ff8ba76b942f"
      },
      "execution_count": 1,
      "outputs": [
        {
          "output_type": "stream",
          "name": "stdout",
          "text": [
            "Drive already mounted at /content/drive; to attempt to forcibly remount, call drive.mount(\"/content/drive\", force_remount=True).\n"
          ]
        }
      ]
    },
    {
      "cell_type": "code",
      "source": [
        "# !pip install faiss-gpu-cu11"
      ],
      "metadata": {
        "id": "fXdx6ce2LAun"
      },
      "execution_count": 2,
      "outputs": []
    },
    {
      "cell_type": "code",
      "execution_count": 3,
      "metadata": {
        "id": "W6XerBh1koNX"
      },
      "outputs": [],
      "source": [
        "import os, json\n",
        "import torch\n",
        "from PIL import Image\n",
        "import numpy as np\n",
        "import torchvision.transforms as T\n",
        "from tqdm import tqdm\n",
        "import faiss\n",
        "import matplotlib.pyplot as plt\n",
        "import cv2\n",
        "from transformers import AutoModel, AutoImageProcessor"
      ]
    },
    {
      "cell_type": "code",
      "source": [
        "def load_oxford_ground_truth(gt_dir):\n",
        "    gt_dict = {}\n",
        "\n",
        "    for file in os.listdir(gt_dir):\n",
        "        if not file.endswith('_query.txt'):\n",
        "            continue\n",
        "\n",
        "        base = file.replace('_query.txt', '')\n",
        "        #oxc1_all_souls_000013 136.5 34.1 648.5 955.7\n",
        "        with open(os.path.join(gt_dir, file), 'r') as f:\n",
        "            query_line = f.readline().strip()\n",
        "            query_name = query_line.split()[0].replace('oxc1_', '') + \".jpg\"\n",
        "\n",
        "        relevant = []\n",
        "        for suffix in ['_good.txt', '_ok.txt']:\n",
        "            path = os.path.join(gt_dir, base + suffix)\n",
        "            if os.path.exists(path):\n",
        "                with open(path, 'r') as f:\n",
        "                    relevant += [line.strip() + \".jpg\" for line in f if line.strip()]\n",
        "\n",
        "        gt_dict[query_name] = relevant\n",
        "    return gt_dict\n"
      ],
      "metadata": {
        "id": "-ISSvxJjJycW"
      },
      "execution_count": 4,
      "outputs": []
    },
    {
      "cell_type": "code",
      "source": [
        "device = \"cuda\" if torch.cuda.is_available() else \"cpu\"\n",
        "print(\"Device:::\", device)"
      ],
      "metadata": {
        "colab": {
          "base_uri": "https://localhost:8080/"
        },
        "id": "I6HrVWrNKK5K",
        "outputId": "7c36f8d3-a962-46d6-d749-e691bfedf002"
      },
      "execution_count": 5,
      "outputs": [
        {
          "output_type": "stream",
          "name": "stdout",
          "text": [
            "Device::: cuda\n"
          ]
        }
      ]
    },
    {
      "cell_type": "code",
      "source": [
        "DATA_PATH = '/content/drive/MyDrive/dinov2/'\n",
        "FAISS_INDEX_PATH = os.path.join(DATA_PATH, 'core/oxford_index.bin')\n",
        "EMBEDDINGS_JSON_PATH = os.path.join(DATA_PATH, 'core/oxford_embeddings.json')\n",
        "\n",
        "IMAGE_COLLECTION_PATH = f\"{DATA_PATH}collection/images\"\n",
        "GROUND_TRUTH_PATH = f\"{DATA_PATH}collection/gtruth/\""
      ],
      "metadata": {
        "id": "RkRHJ1GIGO-_"
      },
      "execution_count": 6,
      "outputs": []
    },
    {
      "cell_type": "code",
      "source": [
        "# Load FAISS index\n",
        "index = faiss.read_index(FAISS_INDEX_PATH)\n",
        "\n",
        "# Load embedding JSON (dùng để mapping index → tên file ảnh)\n",
        "with open(EMBEDDINGS_JSON_PATH, 'r') as f:\n",
        "    all_embeddings = json.load(f)\n",
        "\n",
        "# Lấy danh sách file ảnh theo thứ tự index đã add\n",
        "files = list(all_embeddings.keys())"
      ],
      "metadata": {
        "id": "mze5SBlGLqBn"
      },
      "execution_count": 7,
      "outputs": []
    },
    {
      "cell_type": "code",
      "source": [
        "# Transform giống như lúc tạo index\n",
        "transform = T.Compose([\n",
        "    T.ToTensor(),\n",
        "    T.Resize(244),\n",
        "    T.CenterCrop(224),\n",
        "    T.Normalize([0.5], [0.5])\n",
        "])"
      ],
      "metadata": {
        "id": "BBHbwwM_Hz2F"
      },
      "execution_count": 8,
      "outputs": []
    },
    {
      "cell_type": "code",
      "source": [
        "def load_query_image_from_txt(query_txt_path, images_dir):\n",
        "    with open(query_txt_path, 'r') as f:\n",
        "        line = f.readline().strip()\n",
        "        parts = line.split()\n",
        "        image_base = parts[0].replace('oxc1_', '') + '.jpg'\n",
        "        x1, y1, x2, y2 = map(float, parts[1:])\n",
        "\n",
        "    image_path = os.path.join(images_dir, image_base)\n",
        "    image = Image.open(image_path).convert('RGB')\n",
        "    cropped = image.crop((x1, y1, x2, y2))\n",
        "\n",
        "    return transform(cropped).unsqueeze(0).to(device), image_base"
      ],
      "metadata": {
        "id": "8JupRuf0H2w_"
      },
      "execution_count": 9,
      "outputs": []
    },
    {
      "cell_type": "code",
      "source": [
        "dinov2_model = AutoModel.from_pretrained('facebook/dinov2-base').to(device)\n",
        "processor = AutoImageProcessor.from_pretrained('facebook/dinov2-base', use_fast=False)"
      ],
      "metadata": {
        "colab": {
          "base_uri": "https://localhost:8080/"
        },
        "id": "EqowJMwzH45v",
        "outputId": "99856bc8-41e3-4ada-cdfd-4e05a9f6e9bd"
      },
      "execution_count": 10,
      "outputs": [
        {
          "output_type": "stream",
          "name": "stderr",
          "text": [
            "/usr/local/lib/python3.11/dist-packages/huggingface_hub/utils/_auth.py:94: UserWarning: \n",
            "The secret `HF_TOKEN` does not exist in your Colab secrets.\n",
            "To authenticate with the Hugging Face Hub, create a token in your settings tab (https://huggingface.co/settings/tokens), set it as secret in your Google Colab and restart your session.\n",
            "You will be able to reuse this secret in all of your notebooks.\n",
            "Please note that authentication is recommended but still optional to access public models or datasets.\n",
            "  warnings.warn(\n"
          ]
        }
      ]
    },
    {
      "cell_type": "code",
      "source": [
        "\n",
        "gt_dict = load_oxford_ground_truth(GROUND_TRUTH_PATH)\n",
        "retrieved_results = {}\n",
        "\n",
        "for query_file in tqdm(os.listdir(GROUND_TRUTH_PATH)):\n",
        "    if not query_file.endswith(\"_query.txt\"):\n",
        "        continue\n",
        "\n",
        "    query_path = os.path.join(GROUND_TRUTH_PATH, query_file)\n",
        "    query_tensor, query_img_name = load_query_image_from_txt(query_path, IMAGE_COLLECTION_PATH)\n",
        "\n",
        "    with torch.no_grad():\n",
        "        out = dinov2_model(query_tensor)\n",
        "        query_embedding = out.pooler_output.cpu().numpy()\n",
        "\n",
        "    D, I = index.search(query_embedding, k=5)\n",
        "    retrieved = [files[idx] for idx in I[0]]\n",
        "    retrieved_results[query_img_name] = retrieved"
      ],
      "metadata": {
        "colab": {
          "base_uri": "https://localhost:8080/"
        },
        "id": "BPWo_2icH8Qb",
        "outputId": "bc5b556e-2728-4134-f0e6-cb08ad7b0e54"
      },
      "execution_count": 11,
      "outputs": [
        {
          "output_type": "stream",
          "name": "stderr",
          "text": [
            "100%|██████████| 220/220 [00:05<00:00, 40.32it/s]\n"
          ]
        }
      ]
    },
    {
      "cell_type": "code",
      "source": [
        "def apk(actual, predicted, k=5):\n",
        "    if not actual:\n",
        "        return 0.0\n",
        "    predicted = predicted[:k]\n",
        "\n",
        "    score = 0.0\n",
        "    num_hits = 0.0\n",
        "    for i, p in enumerate(predicted):\n",
        "        if p in actual and p not in predicted[:i]:\n",
        "            num_hits += 1.0\n",
        "            score += num_hits / (i + 1.0)\n",
        "    return score / min(len(actual), k)\n",
        "\n",
        "def mapk(gt_dict, retrieved_dict, k=5):\n",
        "    scores = []\n",
        "    for query_img in gt_dict:\n",
        "        actual = gt_dict[query_img]\n",
        "        predicted = retrieved_dict.get(query_img, [])\n",
        "        scores.append(apk(actual, predicted, k))\n",
        "    return np.mean(scores)\n",
        "\n",
        "def precision_at_k(actual, predicted, k):\n",
        "    if not actual:\n",
        "        return 0.0\n",
        "    predicted = predicted[:k]\n",
        "    hits = sum([1 for p in predicted if p in actual])\n",
        "    return hits / k\n"
      ],
      "metadata": {
        "id": "NSOTs5NwLgSu"
      },
      "execution_count": 12,
      "outputs": []
    },
    {
      "cell_type": "code",
      "source": [
        "def evaluate_metrics(gt_dict, retrieved_dict, k):\n",
        "    apk_scores = []\n",
        "    precision_scores = []\n",
        "\n",
        "    for query_img in gt_dict:\n",
        "        actual = gt_dict[query_img]\n",
        "        predicted = retrieved_dict.get(query_img, [])[:k]\n",
        "\n",
        "        precision = precision_at_k(actual, predicted, k)\n",
        "        ap = apk(actual, predicted, k)\n",
        "\n",
        "        apk_scores.append(ap)\n",
        "        precision_scores.append(precision)\n",
        "\n",
        "    return np.mean(apk_scores), np.mean(precision_scores)\n"
      ],
      "metadata": {
        "id": "eOebZ511OIXn"
      },
      "execution_count": 13,
      "outputs": []
    },
    {
      "cell_type": "code",
      "source": [
        "k_list = [5, 10, 15, 20]\n",
        "map_list = []\n",
        "precision_list = []\n",
        "\n",
        "for k in k_list:\n",
        "    score, precision = evaluate_metrics(gt_dict, retrieved_results, k)\n",
        "\n",
        "    print(f\"k = {k}: MAP@{k} = {score:.4f}, Precision@{k} = {precision:.4f}\")\n",
        "    map_list.append(score)\n",
        "    precision_list.append(precision)\n",
        "\n",
        "plt.figure(figsize=(10, 6))\n",
        "plt.plot(k_list, map_list, label='MAP@k')\n",
        "plt.plot(k_list, precision_list, label='Precision@k')\n",
        "plt.xlabel('k')\n",
        "plt.ylabel('Score')\n",
        "plt.title('Evaluation Metrics vs. k')\n",
        "plt.legend()\n",
        "plt.grid(True)\n",
        "plt.show()\n"
      ],
      "metadata": {
        "colab": {
          "base_uri": "https://localhost:8080/",
          "height": 633
        },
        "id": "pVdBSrFKWQG5",
        "outputId": "6ef3ebe9-106d-454f-ea8d-09dc821fbcb7"
      },
      "execution_count": 14,
      "outputs": [
        {
          "output_type": "stream",
          "name": "stdout",
          "text": [
            "k = 5: MAP@5 = 0.8115, Precision@5 = 0.8473\n",
            "k = 10: MAP@10 = 0.4453, Precision@10 = 0.4236\n",
            "k = 15: MAP@15 = 0.3479, Precision@15 = 0.2824\n",
            "k = 20: MAP@20 = 0.3031, Precision@20 = 0.2118\n"
          ]
        },
        {
          "output_type": "display_data",
          "data": {
            "text/plain": [
              "<Figure size 1000x600 with 1 Axes>"
            ],
            "image/png": "[encoded data removed]"
          },
          "metadata": {}
        }
      ]
    }
  ]
}